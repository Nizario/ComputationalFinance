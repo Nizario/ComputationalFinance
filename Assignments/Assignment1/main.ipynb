{
 "cells": [
  {
   "cell_type": "code",
   "execution_count": 13,
   "metadata": {},
   "outputs": [],
   "source": [
    "import numpy as np"
   ]
  },
  {
   "cell_type": "markdown",
   "metadata": {},
   "source": [
    "# Assignment 1: Black-Scholes Model and Binomial Tree Methods\n",
    "\n",
    "## Part 1: Option Valuation\n",
    "\n",
    "### Theory"
   ]
  },
  {
   "cell_type": "markdown",
   "metadata": {},
   "source": [
    "A commonly used approach to compute the price of an option is the so-called binomial tree method. Suppose that the maturity of an option on a non-dividend-paying stock is divided into N subintervals of length δt . We will refer to the jth node at time iδt as the (i, j) node. The stock price at the (i,j) node is $S_{(i,j)} = S_0u^jd^{(i−j)}$ (with u and d the upward and down-ward stock price movements, respectively). In the binomial tree approach, option prices are computed through a back-ward induction scheme:\n",
    "1. The value of a call option at its expiration date is $MAX(0,S_{N,j} −K)$;\n",
    "\n",
    "\n",
    "2. Suppose that the values of the option at time (i + 1)δt is known for all j. There is a probability p of moving from the (i, j) node at time iδt to the (i + 1, j + 1) node at time (i+1)δt , and a probability 1−p of moving from the (i,j) node at time iδt to the (i+1,j) node at time (i + 1)δt . Risk-neutral valuation gives\n",
    "\\begin{equation*}\n",
    "fi,j = e^{−rδt}(pf_{i+1,j+1}) + (1 − p)f_{i+1,j})\n",
    "\\end{equation*}"
   ]
  },
  {
   "cell_type": "markdown",
   "metadata": {},
   "source": [
    "### Assignment\n",
    "\n",
    "Consider a European call option on a non-dividend-paying stock with a maturity of one year and strike price of €99. Let the one year interest rate be 6% and the current price of the stock be €100. Furthermore, assume that the volatility is 20%."
   ]
  },
  {
   "cell_type": "markdown",
   "metadata": {},
   "source": [
    "### References / Inspiration\n",
    "\n",
    "Lecture slides Binomial Model\n",
    "\n",
    "Theory/code: http://andras.niedermayer.ch/wp-content/uploads/2018/03/Slides_Python4Finance_LA7.pdf\n",
    "\n",
    "Theory: https://digitalcommons.usu.edu/cgi/viewcontent.cgi?article=1865&context=gradreports\n",
    "\n",
    "Code: https://seelio.com/w/2c0v/binomial-pricing-model-for-options"
   ]
  },
  {
   "cell_type": "code",
   "execution_count": 24,
   "metadata": {},
   "outputs": [],
   "source": [
    "K = 99 # strike price\n",
    "S0 = 100 # current price of the stock\n",
    "N = 50 # time steps\n",
    "u = 1.2\n",
    "r = .06\n",
    "T = 1 # year"
   ]
  },
  {
   "cell_type": "markdown",
   "metadata": {},
   "source": [
    "#### 1. Write a binomial tree program to approximate the price of the option. Take a tree with 50 steps. How does your estimate compare to the analytical value? Experiment for different values of the volatility.\n",
    "\n",
    "OUTSIDE OF PYTHON: Provide analytical value"
   ]
  },
  {
   "cell_type": "code",
   "execution_count": 32,
   "metadata": {},
   "outputs": [],
   "source": [
    "import math\n",
    "\n",
    "def binomial_tree(K, S0, N, u, r, T):\n",
    "    \n",
    "    d = 1 / u\n",
    "    p = (math.exp(r*T) - d) / (u - d) \n",
    "    q = 1 - p\n",
    "\n",
    "    # make stock price tree\n",
    "    stock = np.zeros([N + 1, N + 1])\n",
    "    \n",
    "    for i in range(N + 1):\n",
    "        for j in range(i + 1):\n",
    "            stock[j, i] = S0 * (u ** (i - j)) * (d ** j)\n",
    "\n",
    "    # Generate option prices recursively\n",
    "    option = np.zeros([N + 1, N + 1])\n",
    "    option[:, N] = np.maximum(np.zeros(N + 1), (stock[:, N] - K))\n",
    "    \n",
    "    for i in range(N - 1, -1, -1):\n",
    "        for j in range(0, i + 1):\n",
    "            option[j, i] = (1 / (1 + r) * (p * option[j, i + 1] + q * option[j + 1, i + 1]))\n",
    "            \n",
    "    return option"
   ]
  },
  {
   "cell_type": "code",
   "execution_count": 33,
   "metadata": {},
   "outputs": [
    {
     "data": {
      "text/plain": [
       "array([[1.03733672e+02, 1.24977694e+02, 1.50476656e+02, ...,\n",
       "        6.34078567e+05, 7.59590394e+05, 9.09944815e+05],\n",
       "       [0.00000000e+00, 8.51166912e+01, 1.02706351e+02, ...,\n",
       "        4.40305416e+05, 5.27464792e+05, 6.31875872e+05],\n",
       "       [0.00000000e+00, 0.00000000e+00, 6.95791044e+01, ...,\n",
       "        3.05740727e+05, 3.66266457e+05, 4.38772439e+05],\n",
       "       ...,\n",
       "       [0.00000000e+00, 0.00000000e+00, 0.00000000e+00, ...,\n",
       "        0.00000000e+00, 0.00000000e+00, 0.00000000e+00],\n",
       "       [0.00000000e+00, 0.00000000e+00, 0.00000000e+00, ...,\n",
       "        0.00000000e+00, 0.00000000e+00, 0.00000000e+00],\n",
       "       [0.00000000e+00, 0.00000000e+00, 0.00000000e+00, ...,\n",
       "        0.00000000e+00, 0.00000000e+00, 0.00000000e+00]])"
      ]
     },
     "execution_count": 33,
     "metadata": {},
     "output_type": "execute_result"
    }
   ],
   "source": [
    "binomial_tree(K, S0, N, u, r, T)"
   ]
  },
  {
   "cell_type": "code",
   "execution_count": null,
   "metadata": {},
   "outputs": [],
   "source": []
  }
 ],
 "metadata": {
  "kernelspec": {
   "display_name": "Python 3",
   "language": "python",
   "name": "python3"
  },
  "language_info": {
   "codemirror_mode": {
    "name": "ipython",
    "version": 3
   },
   "file_extension": ".py",
   "mimetype": "text/x-python",
   "name": "python",
   "nbconvert_exporter": "python",
   "pygments_lexer": "ipython3",
   "version": "3.7.2"
  }
 },
 "nbformat": 4,
 "nbformat_minor": 2
}
