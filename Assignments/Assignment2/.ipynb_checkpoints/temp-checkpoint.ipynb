{
 "cells": [
  {
   "cell_type": "code",
   "execution_count": 9,
   "metadata": {},
   "outputs": [
    {
     "name": "stderr",
     "output_type": "stream",
     "text": [
      "0it [00:00, ?it/s]\n"
     ]
    },
    {
     "ename": "NameError",
     "evalue": "name 'repeats' is not defined",
     "output_type": "error",
     "traceback": [
      "\u001b[0;31m---------------------------------------------------------------------------\u001b[0m",
      "\u001b[0;31mNameError\u001b[0m                                 Traceback (most recent call last)",
      "\u001b[0;32m<ipython-input-9-e2ed404253d0>\u001b[0m in \u001b[0;36m<module>\u001b[0;34m()\u001b[0m\n\u001b[1;32m     68\u001b[0m \u001b[0;34m\u001b[0m\u001b[0m\n\u001b[1;32m     69\u001b[0m     \u001b[0;32mfor\u001b[0m \u001b[0mN\u001b[0m \u001b[0;32min\u001b[0m \u001b[0mNs\u001b[0m\u001b[0;34m:\u001b[0m\u001b[0;34m\u001b[0m\u001b[0;34m\u001b[0m\u001b[0m\n\u001b[0;32m---> 70\u001b[0;31m         \u001b[0mdelta\u001b[0m\u001b[0;34m,\u001b[0m \u001b[0merror\u001b[0m \u001b[0;34m=\u001b[0m \u001b[0mbump_revalue\u001b[0m\u001b[0;34m(\u001b[0m\u001b[0mS0\u001b[0m\u001b[0;34m,\u001b[0m \u001b[0mr\u001b[0m\u001b[0;34m,\u001b[0m \u001b[0msigma\u001b[0m\u001b[0;34m,\u001b[0m \u001b[0mT\u001b[0m\u001b[0;34m,\u001b[0m \u001b[0mK\u001b[0m\u001b[0;34m,\u001b[0m \u001b[0mshift_value\u001b[0m\u001b[0;34m,\u001b[0m \u001b[0mN\u001b[0m\u001b[0;34m)\u001b[0m\u001b[0;34m\u001b[0m\u001b[0;34m\u001b[0m\u001b[0m\n\u001b[0m\u001b[1;32m     71\u001b[0m         \u001b[0mdeltas\u001b[0m\u001b[0;34m.\u001b[0m\u001b[0mappend\u001b[0m\u001b[0;34m(\u001b[0m\u001b[0mdelta\u001b[0m\u001b[0;34m)\u001b[0m\u001b[0;34m\u001b[0m\u001b[0;34m\u001b[0m\u001b[0m\n\u001b[1;32m     72\u001b[0m         \u001b[0merrors\u001b[0m\u001b[0;34m.\u001b[0m\u001b[0mappend\u001b[0m\u001b[0;34m(\u001b[0m\u001b[0merror\u001b[0m\u001b[0;34m)\u001b[0m\u001b[0;34m\u001b[0m\u001b[0;34m\u001b[0m\u001b[0m\n",
      "\u001b[0;32m<ipython-input-9-e2ed404253d0>\u001b[0m in \u001b[0;36mbump_revalue\u001b[0;34m(S0, r, sigma, T, K, shift, trials)\u001b[0m\n\u001b[1;32m     45\u001b[0m \u001b[0;34m\u001b[0m\u001b[0m\n\u001b[1;32m     46\u001b[0m         \u001b[0;31m# 95% confidence interval\u001b[0m\u001b[0;34m\u001b[0m\u001b[0;34m\u001b[0m\u001b[0;34m\u001b[0m\u001b[0m\n\u001b[0;32m---> 47\u001b[0;31m         \u001b[0mci95\u001b[0m \u001b[0;34m=\u001b[0m \u001b[0;36m1.96\u001b[0m\u001b[0;34m*\u001b[0m\u001b[0mnp\u001b[0m\u001b[0;34m.\u001b[0m\u001b[0mstd\u001b[0m\u001b[0;34m(\u001b[0m\u001b[0mdata\u001b[0m\u001b[0;34m)\u001b[0m\u001b[0;34m/\u001b[0m\u001b[0mnp\u001b[0m\u001b[0;34m.\u001b[0m\u001b[0msqrt\u001b[0m\u001b[0;34m(\u001b[0m\u001b[0mrepeats\u001b[0m\u001b[0;34m)\u001b[0m\u001b[0;34m\u001b[0m\u001b[0;34m\u001b[0m\u001b[0m\n\u001b[0m\u001b[1;32m     48\u001b[0m \u001b[0;34m\u001b[0m\u001b[0m\n\u001b[1;32m     49\u001b[0m         \u001b[0mvalue1\u001b[0m\u001b[0;34m,\u001b[0m \u001b[0merror1\u001b[0m \u001b[0;34m=\u001b[0m \u001b[0mnp\u001b[0m\u001b[0;34m.\u001b[0m\u001b[0mmean\u001b[0m\u001b[0;34m(\u001b[0m\u001b[0mdata\u001b[0m\u001b[0;34m)\u001b[0m\u001b[0;34m,\u001b[0m \u001b[0mci95\u001b[0m\u001b[0;34m\u001b[0m\u001b[0;34m\u001b[0m\u001b[0m\n",
      "\u001b[0;31mNameError\u001b[0m: name 'repeats' is not defined"
     ]
    }
   ],
   "source": [
    "import numpy as np\n",
    "import matplotlib.pyplot as plt\n",
    "from tqdm import tqdm\n",
    "\n",
    "# set base parameters\n",
    "S0 = 100\n",
    "r = .06\n",
    "sigma = .2\n",
    "T = 1\n",
    "K = 99\n",
    "\n",
    "# set shift value for bump and revalue and set N sizes\n",
    "shift_value = S0*.01\n",
    "Ns = [100*i for i in range(1, 11)]\n",
    "\n",
    "# initialize errors and deltas arrays\n",
    "errors = []\n",
    "deltas = []\n",
    "\n",
    "def payoff(S0, r, sigma, T, K, shift):\n",
    "    '''Calculate the payoff of an option'''\n",
    "\n",
    "    S = S0 + shift\n",
    "\n",
    "    Z = np.random.normal()\n",
    "\n",
    "    # stock price at maturity (analytic)\n",
    "    ST = S*(np.exp(r-0.5*sigma**2*T + sigma*np.sqrt(T)*Z))\n",
    "\n",
    "    payoff = max(K-ST,0)\n",
    "\n",
    "    return payoff, Z\n",
    "\n",
    "def bump_revalue(S0, r, sigma, T, K, shift, trials):\n",
    "    \n",
    "        seed = np.random.randint(0,10)\n",
    "        np.random.seed(seed)\n",
    "        \n",
    "        data = []\n",
    "        \n",
    "        for i in range(1000):\n",
    "            # discounted value of the average pay-off\n",
    "            data.append(np.exp(-r*T)\n",
    "                        *np.mean([payoff(S0, r, sigma, T, K, shift_value)[0] for i in range(trials)]))\n",
    "       \n",
    "        # 95% confidence interval\n",
    "        ci95 = 1.96*np.std(data)/np.sqrt(1000)\n",
    "        \n",
    "        value1, error1 = np.mean(data), ci95\n",
    "    \n",
    "        data = []\n",
    "\n",
    "        for i in range(1000):\n",
    "            # discounted value of the average pay-off\n",
    "            data.append(np.exp(-r*T)*np.mean([calc_payoff(S0, r, sigma, T, K, shift_value)[0] for i in range(trials)]))\n",
    "\n",
    "        # 95% confidence interval\n",
    "        ci95 = 1.96*np.std(data)/np.sqrt(repeats)\n",
    "        \n",
    "        value2, error2 = np.mean(data), ci95\n",
    "        \n",
    "        delta = (value2 - value1)/shift\n",
    "        total_error = error1 + error2\n",
    "        \n",
    "        return delta, total_error\n",
    "    \n",
    "with tqdm(len(Ns), disable=False) as pbar:\n",
    "  \n",
    "    for N in Ns:\n",
    "        delta, error = bump_revalue(S0, r, sigma, T, K, shift_value, N)\n",
    "        deltas.append(delta)\n",
    "        errors.append(error)\n",
    "        \n",
    "        pbar.update()\n",
    "\n",
    "plt.errorbar(Ns, deltas, yerr=errors, **pltstyle1)   \n",
    "plt.axhline(-0.326264, ls='--', c='k', lw=1.)\n",
    "plt.xlabel('N')\n",
    "plt.ylabel(r'$\\Delta$', rotation='horizontal')\n",
    "plt.show()"
   ]
  },
  {
   "cell_type": "code",
   "execution_count": null,
   "metadata": {},
   "outputs": [],
   "source": []
  }
 ],
 "metadata": {
  "kernelspec": {
   "display_name": "Python 3",
   "language": "python",
   "name": "python3"
  },
  "language_info": {
   "codemirror_mode": {
    "name": "ipython",
    "version": 3
   },
   "file_extension": ".py",
   "mimetype": "text/x-python",
   "name": "python",
   "nbconvert_exporter": "python",
   "pygments_lexer": "ipython3",
   "version": "3.7.2"
  }
 },
 "nbformat": 4,
 "nbformat_minor": 2
}
