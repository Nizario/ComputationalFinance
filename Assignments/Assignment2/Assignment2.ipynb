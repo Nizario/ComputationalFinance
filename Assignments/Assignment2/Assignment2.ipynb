{
 "cells": [
  {
   "cell_type": "code",
   "execution_count": 23,
   "metadata": {},
   "outputs": [],
   "source": [
    "import numpy as np\n",
    "import scipy as sp\n",
    "from copy import deepcopy\n",
    "import matplotlib.pyplot as plt\n",
    "%matplotlib inline"
   ]
  },
  {
   "cell_type": "code",
   "execution_count": 2,
   "metadata": {},
   "outputs": [],
   "source": [
    "T = 1\n",
    "K = 99\n",
    "r = 0.06\n",
    "S0 = 100\n",
    "sigma = 0.2"
   ]
  },
  {
   "cell_type": "markdown",
   "metadata": {},
   "source": [
    "### Option price MC estimate (vanilla)"
   ]
  },
  {
   "cell_type": "code",
   "execution_count": 41,
   "metadata": {},
   "outputs": [
    {
     "name": "stdout",
     "output_type": "stream",
     "text": [
      "mean: 4.78022339449\n",
      "std: 0.0795357029701\n"
     ]
    },
    {
     "data": {
      "image/png": "[encoded data removed]",
      "text/plain": [
       "<Figure size 432x288 with 1 Axes>"
      ]
     },
     "metadata": {
      "needs_background": "light"
     },
     "output_type": "display_data"
    }
   ],
   "source": [
    "def stock_euler(Sn, r, sigma, T, dt):\n",
    "    for i in np.arange(0, T+dt, dt):\n",
    "        Sn += Sn*(r*dt + sigma*np.random.normal(0, 1)*np.sqrt(dt))\n",
    "    return Sn\n",
    "\n",
    "def stock_integration(S0, r, sigma, T):\n",
    "    return S0*np.exp( (r - (sigma**2/2))*T + sigma*np.random.normal(0, 1)*np.sqrt(T))\n",
    "\n",
    "N = 50\n",
    "dt = T/N\n",
    "\n",
    "estimates = 10000\n",
    "sims = 10000\n",
    "\n",
    "est_list = []\n",
    "for est in range(estimates):\n",
    "    sim_list = []\n",
    "    for sim in range(sims):\n",
    "        sim_list.append( stock_integration(S0, r, sigma, T) )\n",
    "    payoff_sum = 0\n",
    "    for val in sim_list:\n",
    "        payoff_sum += max(K-val, 0)\n",
    "    est_list.append( np.exp(-r*T)*(payoff_sum/len(sim_list)) )\n",
    "    \n",
    "plt.hist(est_list, bins=50, density=True, rwidth=0.85, color='black')\n",
    "print('mean:', np.mean(est_list))\n",
    "print('std:', np.std(est_list))"
   ]
  },
  {
   "cell_type": "markdown",
   "metadata": {},
   "source": [
    "### Option price MC estimate as function of sigma"
   ]
  },
  {
   "cell_type": "code",
   "execution_count": 50,
   "metadata": {},
   "outputs": [
    {
     "data": {
      "text/plain": [
       "Text(0, 0.5, 'mean option price')"
      ]
     },
     "execution_count": 50,
     "metadata": {},
     "output_type": "execute_result"
    },
    {
     "data": {
      "image/png": "[encoded data removed]",
      "text/plain": [
       "<Figure size 432x288 with 1 Axes>"
      ]
     },
     "metadata": {
      "needs_background": "light"
     },
     "output_type": "display_data"
    }
   ],
   "source": [
    "estimates = 1000\n",
    "sims = 1000\n",
    "\n",
    "s_range = np.arange(0, 7.1, .1)\n",
    "sigma_v_price = []\n",
    "\n",
    "for s in s_range:\n",
    "    est_list = []\n",
    "    for est in range(estimates):\n",
    "        sim_list = []\n",
    "        for sim in range(sims):\n",
    "            sim_list.append( stock_integration(S0, r, s, T) )\n",
    "        payoff_sum = 0\n",
    "        for val in sim_list:\n",
    "            payoff_sum += max(K-val, 0)\n",
    "        est_list.append( np.exp(-r*T)*(payoff_sum/len(sim_list)) )\n",
    "    sigma_v_price.append(np.mean(est_list))\n",
    "\n",
    "plt.plot(s_range, sigma_v_price, c='black')\n",
    "plt.xlabel('volatility (sigma)')\n",
    "plt.ylabel('mean option price')"
   ]
  }
 ],
 "metadata": {
  "kernelspec": {
   "display_name": "Python 3",
   "language": "python",
   "name": "python3"
  },
  "language_info": {
   "codemirror_mode": {
    "name": "ipython",
    "version": 3
   },
   "file_extension": ".py",
   "mimetype": "text/x-python",
   "name": "python",
   "nbconvert_exporter": "python",
   "pygments_lexer": "ipython3",
   "version": "3.6.1"
  }
 },
 "nbformat": 4,
 "nbformat_minor": 2
}
