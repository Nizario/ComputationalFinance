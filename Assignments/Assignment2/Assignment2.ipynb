{
 "cells": [
  {
   "cell_type": "code",
   "execution_count": 3,
   "metadata": {},
   "outputs": [],
   "source": [
    "import numpy as np\n",
    "import scipy as sp\n",
    "from copy import deepcopy\n",
    "import matplotlib.pyplot as plt\n",
    "from scipy.stats import norm\n",
    "%matplotlib inline"
   ]
  },
  {
   "cell_type": "code",
   "execution_count": 4,
   "metadata": {},
   "outputs": [],
   "source": [
    "T = 1\n",
    "K = 99\n",
    "r = 0.06\n",
    "S0 = 100\n",
    "sigma = 0.2"
   ]
  },
  {
   "cell_type": "markdown",
   "metadata": {},
   "source": [
    "### Option price MC estimate (vanilla)"
   ]
  },
  {
   "cell_type": "code",
   "execution_count": null,
   "metadata": {},
   "outputs": [],
   "source": [
    "def stock_euler(Sn, r, sigma, T, dt):\n",
    "    for i in np.arange(0, T+dt, dt):\n",
    "        Sn += Sn*(r*dt + sigma*np.random.normal(0, 1)*np.sqrt(dt))\n",
    "    return Sn\n",
    "\n",
    "def stock_integration(S0, r, sigma, T):\n",
    "    return S0*np.exp( (r - (sigma**2/2))*T + sigma*np.random.normal(0, 1)*np.sqrt(T))\n",
    "\n",
    "N = 50\n",
    "dt = T/N\n",
    "\n",
    "estimates = 10000\n",
    "sims = 10000\n",
    "\n",
    "est_list = []\n",
    "for est in range(estimates):\n",
    "    sim_list = []\n",
    "    for sim in range(sims):\n",
    "        sim_list.append( stock_integration(S0, r, sigma, T) )\n",
    "    payoff_sum = 0\n",
    "    for val in sim_list:\n",
    "        payoff_sum += max(K-val, 0)\n",
    "    est_list.append( np.exp(-r*T)*(payoff_sum/len(sim_list)) )\n",
    "    \n",
    "plt.hist(est_list, bins=50, density=True, rwidth=0.85, color='black')\n",
    "print('mean:', np.mean(est_list))\n",
    "print('std:', np.std(est_list))"
   ]
  },
  {
   "cell_type": "markdown",
   "metadata": {},
   "source": [
    "### Option price MC estimate as function of sigma"
   ]
  },
  {
   "cell_type": "code",
   "execution_count": null,
   "metadata": {},
   "outputs": [],
   "source": [
    "estimates = 1000\n",
    "sims = 1000\n",
    "\n",
    "s_range = np.arange(0, 7.1, .1)\n",
    "sigma_v_price = []\n",
    "\n",
    "for s in s_range:\n",
    "    est_list = []\n",
    "    for est in range(estimates):\n",
    "        sim_list = []\n",
    "        for sim in range(sims):\n",
    "            sim_list.append( stock_integration(S0, r, s, T) )\n",
    "        payoff_sum = 0\n",
    "        for val in sim_list:\n",
    "            payoff_sum += max(K-val, 0)\n",
    "        est_list.append( np.exp(-r*T)*(payoff_sum/len(sim_list)) )\n",
    "    sigma_v_price.append(np.mean(est_list))\n",
    "\n",
    "plt.plot(s_range, sigma_v_price, c='black')\n",
    "plt.xlabel('volatility (sigma)')\n",
    "plt.ylabel('mean option price')"
   ]
  },
  {
   "cell_type": "markdown",
   "metadata": {},
   "source": [
    "### Estimation of Sensitivities in MC"
   ]
  },
  {
   "cell_type": "markdown",
   "metadata": {},
   "source": [
    "1. The hedge parameter δ in Monte Carlo can be estimated by the bump-and-revalue method. Calculate the δ by applying the following methods:\n"
   ]
  },
  {
   "cell_type": "code",
   "execution_count": 23,
   "metadata": {},
   "outputs": [],
   "source": [
    "# set shift value for bump and revalue and set N sizes\n",
    "shift_value = S0*.01\n",
    "Ns = [10000*i for i in range(1, 11)]\n",
    "\n",
    "# initialize errors and deltas arrays\n",
    "errors = []\n",
    "deltas = []\n",
    "\n",
    "def payoff(S0, r, sigma, T, K, digital=False, shift_value=0, asian=False):\n",
    "    \n",
    "    S = S0 + shift_value\n",
    "\n",
    "    Z = np.random.normal()\n",
    "\n",
    "    # stock price at maturity (analytic)\n",
    "    ST = S*(np.exp(r-0.5*sigma**2*T + sigma*np.sqrt(T)*Z))\n",
    "\n",
    "    payoff = max(K-ST,0)\n",
    "    \n",
    "    if digital == True:\n",
    "        if payoff > 0:\n",
    "            payoff = 1\n",
    "    \n",
    "    return payoff, Z\n",
    "\n",
    "def bump_revalue(S0, r, sigma, T, K, shift_value, N, change_seed=False, digital=False):\n",
    "    \n",
    "        seed = np.random.randint(0,10)\n",
    "        np.random.seed(seed)\n",
    "        \n",
    "        data = []\n",
    "        \n",
    "        for i in range(1000):\n",
    "            # discounted value of the average pay-off\n",
    "            data.append(np.exp(-r*T)*np.mean([payoff(S0, r, sigma, T, K, digital)[0] for i in range(N)]))\n",
    "       \n",
    "        # 95% confidence interval\n",
    "        ci95 = 1.96*np.std(data)/np.sqrt(1000)\n",
    "        \n",
    "        value1, error1 = np.mean(data), ci95\n",
    "        \n",
    "        if change_seed == True:\n",
    "            seed = np.random.randint(0,10)\n",
    "            np.random.seed(seed)\n",
    "    \n",
    "        data = []\n",
    "\n",
    "        for i in range(1000):\n",
    "            # discounted value of the average pay-off\n",
    "            data.append(np.exp(-r*T)*np.mean([payoff(S0, r, sigma, T, K, digital, shift_value)[0] for i in range(N)]))\n",
    "       \n",
    "        # 95% confidence interval\n",
    "        ci95 = 1.96*np.std(data)/np.sqrt(1000)\n",
    "        \n",
    "        value2, error2 = np.mean(data), ci95\n",
    "        \n",
    "        delta = (value2 - value1)/shift_value\n",
    "        total_error = error1 + error2\n",
    "        \n",
    "        return delta, total_error\n",
    "    "
   ]
  },
  {
   "cell_type": "markdown",
   "metadata": {},
   "source": [
    "\n",
    "    a. Use different seeds for the bumped and unbumped estimate of the value;\n",
    "    \n",
    "    b. Use the same seed for the bumped and unbumped estimate of the value;\n"
   ]
  },
  {
   "cell_type": "code",
   "execution_count": null,
   "metadata": {},
   "outputs": [
    {
     "name": "stderr",
     "output_type": "stream",
     "text": [
      "10it [3:33:48, 1311.29s/it]\n",
      "8it [1:14:29, 722.04s/it]"
     ]
    }
   ],
   "source": [
    "from tqdm import tqdm\n",
    "\n",
    "deltas, errors = [], []\n",
    "\n",
    "with tqdm(len(Ns), disable=False) as pbar:\n",
    "  \n",
    "    for N in Ns:\n",
    "        delta, error = bump_revalue(S0, r, sigma, T, K, shift_value, N, change_seed=True)\n",
    "        deltas.append(delta)\n",
    "        errors.append(error)\n",
    "        \n",
    "        pbar.update()\n",
    "\n",
    "deltas2, errors2 = [], []\n",
    "\n",
    "with tqdm(len(Ns), disable=False) as pbar:\n",
    "  \n",
    "    for N in Ns:\n",
    "        delta2, error2 = bump_revalue(S0, r, sigma, T, K, shift_value, N, change_seed=False)\n",
    "        deltas2.append(delta2)\n",
    "        errors2.append(error2)\n",
    "        \n",
    "        pbar.update()\n",
    "\n",
    "plt.errorbar(Ns, deltas, yerr=errors, label='different seed') \n",
    "plt.errorbar(Ns, deltas2, yerr=errors2, label='same seed')   \n",
    "plt.axhline(-0.326264, ls='--', c='k', lw=1.)\n",
    "plt.legend(loc='best')\n",
    "plt.xlabel('N')\n",
    "plt.ylabel('hedge parameter$', rotation='vertical')\n",
    "plt.show()"
   ]
  },
  {
   "cell_type": "markdown",
   "metadata": {},
   "source": [
    "    2. Consider a digital option which pays 1 euro if the stock price at expiry is higher than the strike and otherwise nothing. Calculate the hedge parameter δ using the method used in 1. Explain your results and use the sophisticated methods discussed in the lectures to improve your results."
   ]
  },
  {
   "cell_type": "code",
   "execution_count": 18,
   "metadata": {},
   "outputs": [
    {
     "name": "stderr",
     "output_type": "stream",
     "text": [
      "10it [18:47, 158.47s/it]\n"
     ]
    },
    {
     "data": {
      "image/png": "[encoded data removed]",
      "text/plain": [
       "<Figure size 432x288 with 1 Axes>"
      ]
     },
     "metadata": {
      "needs_background": "light"
     },
     "output_type": "display_data"
    }
   ],
   "source": [
    "deltas1, deltas2, errors1, errors2 = [], [], [], []\n",
    "\n",
    "def likelihood(S0, r, sigma, T, K, shift_value, N, digital=False):\n",
    "        \n",
    "        data = []\n",
    "        \n",
    "        for i in range(1000):\n",
    "            data2 = [payoff(S0, r, sigma, T, K, shift_value, digital) for i in range(N)]\n",
    "            data.append(np.mean(\n",
    "                [np.exp(-r*T)*I*Z/(S0*sigma*np.sqrt(T)) for (I,Z) in data2]))\n",
    "            \n",
    "        ci95 = 1.96*np.std(data)/np.sqrt(1000)\n",
    "        \n",
    "        return np.mean(data), ci95\n",
    "\n",
    "\n",
    "with tqdm(len(Ns), disable=False) as pbar:\n",
    "  \n",
    "    for N in Ns:\n",
    "\n",
    "        delta1, error1 = bump_revalue(S0, r, sigma, T, K, shift_value, N, change_seed=False, digital=True)\n",
    "        deltas1.append(np.absolute(delta1))\n",
    "        errors1.append(error1)\n",
    "\n",
    "        delta2, error2 = likelihood(S0, r, sigma, T, K, shift_value, N, digital=True)\n",
    "        deltas2.append(np.absolute(delta2))\n",
    "        errors2.append(error2)\n",
    "\n",
    "        pbar.update()\n",
    "         \n",
    "plt.errorbar(Ns, deltas1, yerr=errors1, label=\"BnR method\") \n",
    "plt.errorbar(Ns, deltas2, yerr=errors2, label=\"Likelihood ratio\") \n",
    "\n",
    "plt.xlabel('N')\n",
    "plt.ylabel('hedge parameter')\n",
    "plt.grid()\n",
    "plt.legend(loc='best')\n",
    "plt.axhline(0.0180243, ls='--', c='k', lw=1.)\n",
    "plt.show()"
   ]
  },
  {
   "cell_type": "markdown",
   "metadata": {},
   "source": [
    "### Estimation of Sensitivities in MC\n",
    "\n",
    "    1. Derive an analytical expression for the price of an Asian option that is based on geometric averages."
   ]
  },
  {
   "cell_type": "code",
   "execution_count": 19,
   "metadata": {},
   "outputs": [],
   "source": [
    "def geometric_mean(iterable):\n",
    "    a = np.array(iterable)\n",
    "    \n",
    "    return np.exp(np.sum(np.log(a))/a.size)\n",
    "\n",
    "def anal_asian(T, N, S_0, K, r, sigma):\n",
    "    \n",
    "    mu = (r - sigma**2/2)*((N+1)/(2*N))\n",
    "    sigma2 = (N+1)*(2*N+1)*sigma**2/(6*N**2)\n",
    "    S_0 = S_0*np.exp((mu-r+sigma2/2)*T)\n",
    "    \n",
    "    d1 = (np.log(S_0/K) + (r + sigma2/2)*T)/np.sqrt(T*sigma2)\n",
    "    d2 = d1 - np.sqrt(T*sigma2)\n",
    "    \n",
    "    c = S_0*norm.cdf(d1) - np.exp(-r*T)*K*norm.cdf(d2)\n",
    "    return c\n",
    "\n",
    "def payoff_asiancall(S0, r, sigma, T, K):\n",
    "      \n",
    "    Z = np.random.normal()\n",
    "\n",
    "    ST = S0\n",
    "    steps = 365\n",
    "    S_values = []\n",
    "    for t in range(steps):\n",
    "       ST += ST*(r/steps + sigma*np.sqrt(1/steps)*np.random.normal())\n",
    "       S_values.append(ST)\n",
    "\n",
    "    A = geometric_mean(S_values)\n",
    "\n",
    "    payoff = max(A-K,0)\n",
    "\n",
    "    return payoff, Z\n",
    "      \n",
    "def mc_asian(T, N, S_0, K, r, sigma, trials):\n",
    "            \n",
    "    data = []\n",
    "\n",
    "    for i in range(10):\n",
    "        data.append(np.exp(-r*T)*np.mean([payoff_asiancall(S0, r, sigma, T, K)[0] for i in range(trials)]))\n",
    "\n",
    "    ci95 = 1.96*np.std(data)/np.sqrt(10)\n",
    "\n",
    "    return np.mean(data), ci95\n"
   ]
  },
  {
   "cell_type": "code",
   "execution_count": 21,
   "metadata": {},
   "outputs": [
    {
     "name": "stderr",
     "output_type": "stream",
     "text": [
      "\r",
      "0it [00:00, ?it/s]"
     ]
    },
    {
     "name": "stdout",
     "output_type": "stream",
     "text": [
      "Analytical value: 6.348905934379616\n"
     ]
    },
    {
     "name": "stderr",
     "output_type": "stream",
     "text": [
      "10it [1:38:35, 877.43s/it]\n"
     ]
    },
    {
     "data": {
      "text/plain": [
       "<matplotlib.lines.Line2D at 0x11e176080>"
      ]
     },
     "execution_count": 21,
     "metadata": {},
     "output_type": "execute_result"
    },
    {
     "data": {
      "image/png": "[encoded data removed]",
      "text/plain": [
       "<Figure size 432x288 with 1 Axes>"
      ]
     },
     "metadata": {
      "needs_background": "light"
     },
     "output_type": "display_data"
    }
   ],
   "source": [
    "N = 365\n",
    "\n",
    "print(\"Analytical value: \" + str(anal_asian(T, N, S0, K, r, sigma)))\n",
    "\n",
    "prices, yerrs = [], []\n",
    "trials = [10000*i for i in range(1, 11)]\n",
    "\n",
    "\n",
    "\n",
    "with tqdm(len(Ns), disable=False) as pbar:\n",
    "  \n",
    "    for trial in trials: \n",
    "        price, error = mc_asian(T, N, S0, K, r, sigma, trial)\n",
    "\n",
    "        prices.append(price)\n",
    "        yerrs.append(error)\n",
    "        pbar.update()\n",
    "    \n",
    "plt.errorbar(trials, prices, yerr=yerrs)\n",
    "plt.axhline(anal_asian(T, N, S0, K, r, sigma), ls='--', c='k', lw=1.)kelihood ratio\") \n",
    "plt.xlabel('N')\n",
    "plt.ylabel('estimation')\n",
    "\n"
   ]
  },
  {
   "cell_type": "code",
   "execution_count": null,
   "metadata": {},
   "outputs": [],
   "source": []
  }
 ],
 "metadata": {
  "kernelspec": {
   "display_name": "Python 3",
   "language": "python",
   "name": "python3"
  },
  "language_info": {
   "codemirror_mode": {
    "name": "ipython",
    "version": 3
   },
   "file_extension": ".py",
   "mimetype": "text/x-python",
   "name": "python",
   "nbconvert_exporter": "python",
   "pygments_lexer": "ipython3",
   "version": "3.7.2"
  }
 },
 "nbformat": 4,
 "nbformat_minor": 2
}
